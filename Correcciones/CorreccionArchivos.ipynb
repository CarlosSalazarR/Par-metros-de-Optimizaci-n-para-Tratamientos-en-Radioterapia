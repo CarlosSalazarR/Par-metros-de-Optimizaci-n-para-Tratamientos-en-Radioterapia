{
 "cells": [
  {
   "cell_type": "code",
   "execution_count": 1,
   "id": "f8197b35",
   "metadata": {},
   "outputs": [],
   "source": [
    "import numpy as np\n",
    "import pandas as pd\n",
    "import matplotlib.pyplot as plt\n",
    "import math\n",
    "from matplotlib.pyplot import figure\n"
   ]
  },
  {
   "cell_type": "code",
   "execution_count": 2,
   "id": "494d2685",
   "metadata": {},
   "outputs": [],
   "source": [
    "from matplotlib import pyplot as plt"
   ]
  },
  {
   "cell_type": "code",
   "execution_count": 3,
   "id": "28cca42f",
   "metadata": {},
   "outputs": [],
   "source": [
    "A1 = pd.read_csv(\"20_Med.txt\", delim_whitespace=True) #A\n",
    "A2 = pd.read_csv(\"20Pareto.txt\", delim_whitespace=True)#B\n",
    "A3 = pd.read_csv(\"20ParetoB.txt\", delim_whitespace=True)#C\n",
    "\n",
    "DICCS1 = [A1] #Contiene listas de diccionarios\n",
    "DICCS2 = [A2]\n",
    "DICCS3 = [A3]\n",
    "\n",
    "L1 = 21\n",
    "L2 = 31\n",
    "NOMBRES = [20]\n",
    "for i in range(L1, L2+1):\n",
    "    try:\n",
    "        B1 =  pd.read_csv(str(i)+\"_Med.txt\", delim_whitespace=True) #IMRT\n",
    "        #Cuidado con el delim_whitespace=True\n",
    "        A1 = A1 + B1\n",
    "        B2 =  pd.read_csv(str(i)+\"Pareto.txt\", delim_whitespace=True) #3D conformal\n",
    "        A2 = A2 + B2        #hacer lista de diccionarios\n",
    "        B3 =  pd.read_csv(str(i)+\"ParetoB.txt\", delim_whitespace=True) #3D conformal\n",
    "        A3 = A3 + B3        #hacer lista de diccionarios\n",
    "        DICCS1.append(B1) #IMRT\n",
    "        DICCS2.append(B2) #3D\n",
    "        DICCS3.append(B3) #Vmat\n",
    "        #necesitamos una lista para guardar los números de nombre\n",
    "        NOMBRES.append(i)\n",
    "    except:\n",
    "        pass\n",
    "        \n",
    "A1 = A1.dropna() #es la suma de todos\n",
    "A2 = A2.dropna()\n",
    "A3 = A3.dropna()\n",
    "\n",
    "promedio1 = A1/len(DICCS1)\n",
    "promedio2 = A2/len(DICCS2)\n",
    "promedio3 = A3/len(DICCS3)\n"
   ]
  },
  {
   "cell_type": "code",
   "execution_count": 4,
   "id": "58f6ca89",
   "metadata": {},
   "outputs": [
    {
     "data": {
      "text/plain": [
       "106.1"
      ]
     },
     "execution_count": 4,
     "metadata": {},
     "output_type": "execute_result"
    }
   ],
   "source": [
    "DICCS1[0][\"Relative_dose_[%]\"].max()"
   ]
  },
  {
   "cell_type": "code",
   "execution_count": 5,
   "id": "ef4385df",
   "metadata": {},
   "outputs": [
    {
     "data": {
      "text/plain": [
       "[20, 21, 22, 23, 24, 26, 27, 28, 29, 30, 31]"
      ]
     },
     "execution_count": 5,
     "metadata": {},
     "output_type": "execute_result"
    }
   ],
   "source": [
    "NOMBRES"
   ]
  },
  {
   "cell_type": "code",
   "execution_count": 6,
   "id": "e1b2d41b",
   "metadata": {},
   "outputs": [],
   "source": [
    "MAXIMOS = []\n",
    "for i in range(len(DICCS1)):\n",
    "    MAXIMOS.append(DICCS1[i][\"Relative_dose_[%]\"].max())\n",
    "M = np.max(MAXIMOS)"
   ]
  },
  {
   "cell_type": "code",
   "execution_count": 7,
   "id": "ed32fb94",
   "metadata": {},
   "outputs": [
    {
     "data": {
      "text/plain": [
       "108.3"
      ]
     },
     "execution_count": 7,
     "metadata": {},
     "output_type": "execute_result"
    }
   ],
   "source": [
    "M"
   ]
  },
  {
   "cell_type": "code",
   "execution_count": 8,
   "id": "419d30cd",
   "metadata": {},
   "outputs": [],
   "source": [
    "for i in range(len(DICCS1)):\n",
    "    df = DICCS1[i]\n",
    "    A = DICCS1[i][\"Relative_dose_[%]\"].max()\n",
    "    Diferencia = round(M - A, 2)\n",
    "    for j in range(int(10*Diferencia)):\n",
    "        A = A+0.1 #la precisión del planificador es de 0.1% de dosis.\n",
    "        D_abs = 50*A\n",
    "        df.loc[df.shape[0]] = [A, D_abs, 0 ]\n",
    "    df.to_csv(str(NOMBRES[i])+\"_Med.txt\", index=False)\n",
    "    "
   ]
  },
  {
   "cell_type": "code",
   "execution_count": null,
   "id": "f125f0ce",
   "metadata": {},
   "outputs": [],
   "source": []
  },
  {
   "cell_type": "code",
   "execution_count": 9,
   "id": "203348cc",
   "metadata": {},
   "outputs": [
    {
     "data": {
      "text/plain": [
       "109.2"
      ]
     },
     "execution_count": 9,
     "metadata": {},
     "output_type": "execute_result"
    }
   ],
   "source": [
    "DICCS2[0][\"Relative_dose_[%]\"].max()"
   ]
  },
  {
   "cell_type": "code",
   "execution_count": 10,
   "id": "e44b59f4",
   "metadata": {},
   "outputs": [],
   "source": [
    "MAXIMOS = []\n",
    "for i in range(len(DICCS2)):\n",
    "    MAXIMOS.append(DICCS2[i][\"Relative_dose_[%]\"].max())\n",
    "M = np.max(MAXIMOS)"
   ]
  },
  {
   "cell_type": "code",
   "execution_count": 11,
   "id": "f9aa9010",
   "metadata": {},
   "outputs": [
    {
     "data": {
      "text/plain": [
       "116.4"
      ]
     },
     "execution_count": 11,
     "metadata": {},
     "output_type": "execute_result"
    }
   ],
   "source": [
    "M"
   ]
  },
  {
   "cell_type": "code",
   "execution_count": 12,
   "id": "03057e7c",
   "metadata": {},
   "outputs": [],
   "source": [
    "for i in range(len(DICCS2)):\n",
    "    df = DICCS2[i]\n",
    "    A = DICCS2[i][\"Relative_dose_[%]\"].max()\n",
    "    Diferencia = round(M - A, 2)\n",
    "    for j in range(int(10*Diferencia)):\n",
    "        A = A+0.1 #la precisión del planificador es de 0.1% de dosis.\n",
    "        D_abs = 50*A\n",
    "        df.loc[df.shape[0]] = [A, D_abs, 0 ]\n",
    "    df.to_csv(str(NOMBRES[i])+\"Pareto.txt\", index=False)\n",
    "    "
   ]
  },
  {
   "cell_type": "code",
   "execution_count": null,
   "id": "398372c6",
   "metadata": {},
   "outputs": [],
   "source": []
  },
  {
   "cell_type": "code",
   "execution_count": 13,
   "id": "b1a4bd83",
   "metadata": {},
   "outputs": [
    {
     "data": {
      "text/plain": [
       "115.0"
      ]
     },
     "execution_count": 13,
     "metadata": {},
     "output_type": "execute_result"
    }
   ],
   "source": [
    "DICCS3[0][\"Relative_dose_[%]\"].max()"
   ]
  },
  {
   "cell_type": "code",
   "execution_count": 14,
   "id": "836960c3",
   "metadata": {},
   "outputs": [],
   "source": [
    "MAXIMOS = []\n",
    "for i in range(len(DICCS3)):\n",
    "    MAXIMOS.append(DICCS3[i][\"Relative_dose_[%]\"].max())\n",
    "M = np.max(MAXIMOS)"
   ]
  },
  {
   "cell_type": "code",
   "execution_count": 15,
   "id": "06d6df51",
   "metadata": {},
   "outputs": [
    {
     "data": {
      "text/plain": [
       "116.1"
      ]
     },
     "execution_count": 15,
     "metadata": {},
     "output_type": "execute_result"
    }
   ],
   "source": [
    "M"
   ]
  },
  {
   "cell_type": "code",
   "execution_count": 16,
   "id": "1229bd85",
   "metadata": {},
   "outputs": [],
   "source": [
    "for i in range(len(DICCS3)):\n",
    "    df = DICCS3[i]\n",
    "    A = DICCS3[i][\"Relative_dose_[%]\"].max()\n",
    "    Diferencia = round(M - A, 2)\n",
    "    for j in range(int(10*Diferencia)):\n",
    "        A = A+0.1 #la precisión del planificador es de 0.1% de dosis.\n",
    "        D_abs = 50*A\n",
    "        df.loc[df.shape[0]] = [A, D_abs, 0 ]\n",
    "    df.to_csv(str(NOMBRES[i])+\"ParetoB.txt\", index=False)\n",
    "    "
   ]
  },
  {
   "cell_type": "code",
   "execution_count": null,
   "id": "d9dc7fe5",
   "metadata": {},
   "outputs": [],
   "source": []
  },
  {
   "cell_type": "code",
   "execution_count": null,
   "id": "b40f9588",
   "metadata": {},
   "outputs": [],
   "source": []
  },
  {
   "cell_type": "code",
   "execution_count": null,
   "id": "f7672f75",
   "metadata": {},
   "outputs": [],
   "source": []
  }
 ],
 "metadata": {
  "kernelspec": {
   "display_name": "Python 3",
   "language": "python",
   "name": "python3"
  },
  "language_info": {
   "codemirror_mode": {
    "name": "ipython",
    "version": 3
   },
   "file_extension": ".py",
   "mimetype": "text/x-python",
   "name": "python",
   "nbconvert_exporter": "python",
   "pygments_lexer": "ipython3",
   "version": "3.8.10"
  }
 },
 "nbformat": 4,
 "nbformat_minor": 5
}
